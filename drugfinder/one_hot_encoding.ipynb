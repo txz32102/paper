{
 "cells": [
  {
   "cell_type": "code",
   "execution_count": 9,
   "metadata": {},
   "outputs": [
    {
     "name": "stdout",
     "output_type": "stream",
     "text": [
      "                      Name                                           Sequence\n",
      "0                 O43684.1  MTGSNEFKLNQPPEDGISSVKFSPNTSQFLLVSSWDTSVRLYDVPA...\n",
      "1                 O60756.1  MGRTPTAVQVKSFTKQGQQRRVCRDLPLKNTKNGLSPGMRTCFLYL...\n",
      "2                 O60908.1  MPTRPQPQPVPRFLTSSQERIHRWCTRRLSPDAGLVILDFPASRTI...\n",
      "3                 P00846.1  MNENLFASFIAPTILGLPAAVLIILFPPLLIPTSKYLINNRLITTQ...\n",
      "4                 P24298.3  MASSTGDRSQAVRHGLRAKVLTLDGMNPRVRRVEYAVRGPIVQRAL...\n",
      "..                     ...                                                ...\n",
      "255  sp|Q9Y4C5|CHST2_HUMAN  MSRSPQRALPPGALPRLLQAAPAAAPRALLPQWPRRPGRRWPASPL...\n",
      "256  sp|Q9Y534|CSDC2_HUMAN  MTSESTSPPVVPPLHSPKSPVWPTFPFHREGSRVWERGGVPPRDLP...\n",
      "257  sp|Q9Y5P2|CSAG2_HUMAN  MWMGLIQLVEGVKRKDQGFLEKEFYHKTNIKMRCEFLACWPAFTVL...\n",
      "258  sp|Q9Y6I9|TX264_HUMAN  MSDLLLLGLIGGLTLLLLLTLLAFAGYSGLLAGVEVSAGSPPIRNV...\n",
      "259  sp|Q9Y6Z4|KIAS1_HUMAN  MGDIFKNNGVLQGRLRAVACAPHCFGPRLRCLHHDQGLTELAWGTW...\n",
      "\n",
      "[260 rows x 2 columns]\n"
     ]
    }
   ],
   "source": [
    "import pandas as pd\n",
    "\n",
    "def read_fasta(file_path):\n",
    "    names = []\n",
    "    sequences = []\n",
    "    current_name = \"\"\n",
    "    current_sequence = \"\"\n",
    "\n",
    "    with open(file_path, 'r') as file:\n",
    "        for line in file:\n",
    "            line = line.strip()\n",
    "\n",
    "            if line.startswith('>'):\n",
    "                # If the line starts with '>', it indicates the beginning of a new sequence\n",
    "                # Store the previous name and sequence\n",
    "                if current_name and current_sequence:\n",
    "                    names.append(current_name)\n",
    "                    sequences.append(current_sequence)\n",
    "\n",
    "                # Reset for the new sequence\n",
    "                current_name = line[1:]  # Exclude the '>'\n",
    "                current_sequence = \"\"\n",
    "            else:\n",
    "                # If the line doesn't start with '>', it is part of the sequence\n",
    "                current_sequence += line\n",
    "\n",
    "    # Add the last sequence to the lists\n",
    "    if current_name and current_sequence:\n",
    "        names.append(current_name)\n",
    "        sequences.append(current_sequence)\n",
    "\n",
    "    # Create a DataFrame\n",
    "    df = pd.DataFrame({'Name': names, 'Sequence': sequences})\n",
    "    return df\n",
    "\n",
    "file_path = '../data/drugfinder/fastadata/Independent_Test/negative_test_sequence.fasta'\n",
    "fasta_df = read_fasta(file_path)\n",
    "\n",
    "# Print the DataFrame\n",
    "print(fasta_df)"
   ]
  },
  {
   "cell_type": "code",
   "execution_count": 13,
   "metadata": {},
   "outputs": [
    {
     "data": {
      "text/plain": [
       "'CEGHSHDHGA'"
      ]
     },
     "execution_count": 13,
     "metadata": {},
     "output_type": "execute_result"
    }
   ],
   "source": [
    "fasta_df['Sequence']"
   ]
  }
 ],
 "metadata": {
  "kernelspec": {
   "display_name": "Python 3",
   "language": "python",
   "name": "python3"
  },
  "language_info": {
   "codemirror_mode": {
    "name": "ipython",
    "version": 3
   },
   "file_extension": ".py",
   "mimetype": "text/x-python",
   "name": "python",
   "nbconvert_exporter": "python",
   "pygments_lexer": "ipython3",
   "version": "3.10.12"
  }
 },
 "nbformat": 4,
 "nbformat_minor": 2
}
