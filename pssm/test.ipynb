{
 "cells": [
  {
   "cell_type": "code",
   "execution_count": 1,
   "metadata": {},
   "outputs": [
    {
     "name": "stdout",
     "output_type": "stream",
     "text": [
      "AAC-PSSM Vector:\n",
      "[0.0, 0.0, 0.0, 0.0, 0.0, 0.0, 0.0, 0.0, 0.0, 0.0, 0.0, 0.0, 0.0, 0.0, 0.0, 0.0, 0.0, 0.0, 0.0, 0.0]\n"
     ]
    }
   ],
   "source": [
    "# Usage example\n",
    "\n",
    "from pssmpro.features import create_pssm_profile\n",
    "\n",
    "# The comma separated protein sequence file\n",
    "protein_sequence_file = \"./pssmpro_test_data/test_seq.csv\"\n",
    "# Output directory where the pssm profiles will be stored\n",
    "output_dir = \"./pssmpro_test_data/pssm_profiles/\"\n",
    "# the path to the psiblast program executable downloaded as part of the blast program suite \n",
    "psiblast_executable_path = \"/opt/aci/sw/ncbi-rmblastn/2.9/0_gcc-8.3.1-bxy/bin/psiblast\"\n",
    "# prefix of the indexed blast database files created using makeblastdb\n",
    "blast_db_prefix = \"./pssmpro_test_data/uniref50/uniref50db\"\n",
    "# number of cores to be used while creating the pssm profiles\n",
    "number_of_cores = 8\n",
    "\n",
    "\n",
    "create_pssm_profile(protein_sequence_file, output_dir, psiblast_executable_path,\n",
    "                    blast_db_prefix, number_of_cores)"
   ]
  }
 ],
 "metadata": {
  "kernelspec": {
   "display_name": "base",
   "language": "python",
   "name": "python3"
  },
  "language_info": {
   "codemirror_mode": {
    "name": "ipython",
    "version": 3
   },
   "file_extension": ".py",
   "mimetype": "text/x-python",
   "name": "python",
   "nbconvert_exporter": "python",
   "pygments_lexer": "ipython3",
   "version": "3.11.5"
  }
 },
 "nbformat": 4,
 "nbformat_minor": 2
}
