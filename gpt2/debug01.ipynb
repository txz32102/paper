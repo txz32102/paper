{
 "cells": [
  {
   "cell_type": "code",
   "execution_count": 1,
   "metadata": {},
   "outputs": [],
   "source": [
    "import os\n",
    "import time\n",
    "import math\n",
    "import pickle\n",
    "from contextlib import nullcontext\n",
    "import numpy as np\n",
    "import torch\n",
    "from torch.nn.parallel import DistributedDataParallel as DDP\n",
    "from torch.distributed import init_process_group, destroy_process_group\n",
    "from model import GPTConfig, GPT, get_dataloader, get_th_dataset, CustomDataset\n",
    "from torch.nn import Module, Conv1d, Linear, Dropout, MaxPool1d, functional as F, BatchNorm1d, LazyLinear\n",
    "from torch.utils.data import Dataset\n",
    "import pandas as pd\n",
    "from sklearn.model_selection import train_test_split\n",
    "from sklearn.preprocessing import MinMaxScaler\n",
    "import matplotlib.pyplot as plt\n",
    "from sklearn.metrics import roc_curve, auc, matthews_corrcoef, f1_score, recall_score, accuracy_score"
   ]
  },
  {
   "cell_type": "code",
   "execution_count": 2,
   "metadata": {},
   "outputs": [],
   "source": [
    "a = torch.load('/home/musong/Desktop/paper/gpt2/out-shakespeare-char/ckpt.pt')"
   ]
  },
  {
   "cell_type": "code",
   "execution_count": 5,
   "metadata": {},
   "outputs": [
    {
     "name": "stdout",
     "output_type": "stream",
     "text": [
      "number of parameters: 0.80M\n"
     ]
    },
    {
     "ename": "NameError",
     "evalue": "name 'config_keys' is not defined",
     "output_type": "error",
     "traceback": [
      "\u001b[0;31m---------------------------------------------------------------------------\u001b[0m",
      "\u001b[0;31mNameError\u001b[0m                                 Traceback (most recent call last)",
      "\u001b[1;32m/home/musong/Desktop/paper/gpt2/debug01.ipynb Cell 3\u001b[0m line \u001b[0;36m1\n\u001b[1;32m     <a href='vscode-notebook-cell:/home/musong/Desktop/paper/gpt2/debug01.ipynb#W2sZmlsZQ%3D%3D?line=10'>11</a>\u001b[0m gptconf \u001b[39m=\u001b[39m GPTConfig(\u001b[39m*\u001b[39m\u001b[39m*\u001b[39mmodel_args)\n\u001b[1;32m     <a href='vscode-notebook-cell:/home/musong/Desktop/paper/gpt2/debug01.ipynb#W2sZmlsZQ%3D%3D?line=11'>12</a>\u001b[0m model \u001b[39m=\u001b[39m GPT(gptconf)\n\u001b[0;32m---> <a href='vscode-notebook-cell:/home/musong/Desktop/paper/gpt2/debug01.ipynb#W2sZmlsZQ%3D%3D?line=12'>13</a>\u001b[0m config \u001b[39m=\u001b[39m {k: \u001b[39mglobals\u001b[39m()[k] \u001b[39mfor\u001b[39;00m k \u001b[39min\u001b[39;00m config_keys} \n",
      "\u001b[0;31mNameError\u001b[0m: name 'config_keys' is not defined"
     ]
    }
   ],
   "source": [
    "model_args = dict(\n",
    "    n_layer=4,\n",
    "    n_head=4,\n",
    "    n_embd=128,\n",
    "    block_size=64,\n",
    "    bias=False,\n",
    "    vocab_size=65,\n",
    "    dropout=0.0,\n",
    ")  # start with model_args from command line\n",
    "\n",
    "gptconf = GPTConfig(**model_args)\n",
    "model = GPT(gptconf)\n",
    "config = {k: globals()[k] for k in config_keys} "
   ]
  }
 ],
 "metadata": {
  "kernelspec": {
   "display_name": "Python 3",
   "language": "python",
   "name": "python3"
  },
  "language_info": {
   "codemirror_mode": {
    "name": "ipython",
    "version": 3
   },
   "file_extension": ".py",
   "mimetype": "text/x-python",
   "name": "python",
   "nbconvert_exporter": "python",
   "pygments_lexer": "ipython3",
   "version": "3.10.12"
  }
 },
 "nbformat": 4,
 "nbformat_minor": 2
}
