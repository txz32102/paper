{
 "cells": [
  {
   "cell_type": "code",
   "execution_count": 3,
   "metadata": {},
   "outputs": [
    {
     "ename": "ValueError",
     "evalue": "substring not found",
     "output_type": "error",
     "traceback": [
      "\u001b[0;31m---------------------------------------------------------------------------\u001b[0m",
      "\u001b[0;31mValueError\u001b[0m                                Traceback (most recent call last)",
      "\u001b[1;32m/home/musong/Desktop/paper/util/1.ipynb Cell 1\u001b[0m line \u001b[0;36m2\n\u001b[1;32m      <a href='vscode-notebook-cell:/home/musong/Desktop/paper/util/1.ipynb#W0sZmlsZQ%3D%3D?line=0'>1</a>\u001b[0m \u001b[39mfrom\u001b[39;00m \u001b[39mpssm_1200d\u001b[39;00m \u001b[39mimport\u001b[39;00m pssm_1200d\n\u001b[0;32m----> <a href='vscode-notebook-cell:/home/musong/Desktop/paper/util/1.ipynb#W0sZmlsZQ%3D%3D?line=1'>2</a>\u001b[0m pssm_1200d(\u001b[39m'\u001b[39;49m\u001b[39m/home/musong/Desktop/pssm_drugfiner/pssm_test/neg\u001b[39;49m\u001b[39m'\u001b[39;49m, \u001b[39m'\u001b[39;49m\u001b[39m/home/musong/Desktop/pssm_drugfiner/test_neg.csv\u001b[39;49m\u001b[39m'\u001b[39;49m)\n\u001b[1;32m      <a href='vscode-notebook-cell:/home/musong/Desktop/paper/util/1.ipynb#W0sZmlsZQ%3D%3D?line=2'>3</a>\u001b[0m pssm_1200d(\u001b[39m'\u001b[39m\u001b[39m/home/musong/Desktop/pssm_drugfiner/pssm_test/pos\u001b[39m\u001b[39m'\u001b[39m, \u001b[39m'\u001b[39m\u001b[39m/home/musong/Desktop/pssm_drugfiner/test_pos.csv\u001b[39m\u001b[39m'\u001b[39m)\n\u001b[1;32m      <a href='vscode-notebook-cell:/home/musong/Desktop/paper/util/1.ipynb#W0sZmlsZQ%3D%3D?line=3'>4</a>\u001b[0m pssm_1200d(\u001b[39m'\u001b[39m\u001b[39m/home/musong/Desktop/pssm_drugfiner/pssm_train/pos\u001b[39m\u001b[39m'\u001b[39m, \u001b[39m'\u001b[39m\u001b[39m/home/musong/Desktop/pssm_drugfiner/train_neg.csv\u001b[39m\u001b[39m'\u001b[39m)\n",
      "File \u001b[0;32m~/Desktop/paper/util/pssm_1200d.py:14\u001b[0m, in \u001b[0;36mpssm_1200d\u001b[0;34m(pssm_path, output_csv)\u001b[0m\n\u001b[1;32m     12\u001b[0m dpc_pssm_400 \u001b[39m=\u001b[39m dpc_pssm(pssm_data)\n\u001b[1;32m     13\u001b[0m k_separated_bigrams_pssm_400 \u001b[39m=\u001b[39m k_separated_bigrams_pssm(pssm_data)\n\u001b[0;32m---> 14\u001b[0m s_fpssm_400 \u001b[39m=\u001b[39m s_fpssm(pssm_data)\n\u001b[1;32m     15\u001b[0m combined_features \u001b[39m=\u001b[39m np\u001b[39m.\u001b[39mconcatenate((dpc_pssm_400, k_separated_bigrams_pssm_400, s_fpssm_400), axis\u001b[39m=\u001b[39m\u001b[39mNone\u001b[39;00m)\n\u001b[1;32m     16\u001b[0m row \u001b[39m=\u001b[39m [file_name] \u001b[39m+\u001b[39m [\u001b[39m0\u001b[39m] \u001b[39m+\u001b[39m \u001b[39mlist\u001b[39m(combined_features)\n",
      "File \u001b[0;32m~/Desktop/paper/util/pssm.py:540\u001b[0m, in \u001b[0;36ms_fpssm\u001b[0;34m(input_matrix)\u001b[0m\n\u001b[1;32m    538\u001b[0m SWITCH \u001b[39m=\u001b[39m \u001b[39m2\u001b[39m\n\u001b[1;32m    539\u001b[0m COUNT \u001b[39m=\u001b[39m \u001b[39m400\u001b[39m\n\u001b[0;32m--> 540\u001b[0m s_fpssm_matrix \u001b[39m=\u001b[39m handle_rows(input_matrix, SWITCH, COUNT)\n\u001b[1;32m    541\u001b[0m s_fpssm_matrix \u001b[39m=\u001b[39m np\u001b[39m.\u001b[39marray(s_fpssm_matrix)\n\u001b[1;32m    542\u001b[0m s_fpssm_matrix_shape \u001b[39m=\u001b[39m np\u001b[39m.\u001b[39mshape(s_fpssm_matrix)\n",
      "File \u001b[0;32m~/Desktop/paper/util/pssm.py:145\u001b[0m, in \u001b[0;36mhandle_rows\u001b[0;34m(pssm, switch, count)\u001b[0m\n\u001b[1;32m    142\u001b[0m         matrix_final[\u001b[39m0\u001b[39m] \u001b[39m=\u001b[39m \u001b[39mlist\u001b[39m(\u001b[39mmap\u001b[39m(\u001b[39msum\u001b[39m, \u001b[39mzip\u001b[39m(str_vec_positive, matrix_final[\u001b[39m0\u001b[39m])))\n\u001b[1;32m    143\u001b[0m     \u001b[39melif\u001b[39;00m count \u001b[39m==\u001b[39m \u001b[39m400\u001b[39m:\n\u001b[1;32m    144\u001b[0m         matrix_final[Amino_vec\u001b[39m.\u001b[39mindex(str_vec[\u001b[39m0\u001b[39m])] \u001b[39m=\u001b[39m \u001b[39mlist\u001b[39m(\u001b[39mmap\u001b[39m(\u001b[39msum\u001b[39m, \u001b[39mzip\u001b[39m(str_vec_positive,\n\u001b[0;32m--> 145\u001b[0m                                                                       matrix_final[Amino_vec\u001b[39m.\u001b[39;49mindex(str_vec[\u001b[39m0\u001b[39;49m])])))\n\u001b[1;32m    147\u001b[0m \u001b[39mreturn\u001b[39;00m matrix_final\n",
      "\u001b[0;31mValueError\u001b[0m: substring not found"
     ]
    }
   ],
   "source": [
    "from pssm_1200d import pssm_1200d\n",
    "pssm_1200d('/home/musong/Desktop/pssm_drugfiner/pssm_test/neg', '/home/musong/Desktop/pssm_drugfiner/test_neg.csv')\n",
    "pssm_1200d('/home/musong/Desktop/pssm_drugfiner/pssm_test/pos', '/home/musong/Desktop/pssm_drugfiner/test_pos.csv')\n",
    "pssm_1200d('/home/musong/Desktop/pssm_drugfiner/pssm_train/pos', '/home/musong/Desktop/pssm_drugfiner/train_neg.csv')\n",
    "pssm_1200d('/home/musong/Desktop/pssm_drugfiner/pssm_train/pos', '/home/musong/Desktop/pssm_drugfiner/train_pos.csv')"
   ]
  }
 ],
 "metadata": {
  "kernelspec": {
   "display_name": "Python 3",
   "language": "python",
   "name": "python3"
  },
  "language_info": {
   "codemirror_mode": {
    "name": "ipython",
    "version": 3
   },
   "file_extension": ".py",
   "mimetype": "text/x-python",
   "name": "python",
   "nbconvert_exporter": "python",
   "pygments_lexer": "ipython3",
   "version": "3.10.12"
  }
 },
 "nbformat": 4,
 "nbformat_minor": 2
}
